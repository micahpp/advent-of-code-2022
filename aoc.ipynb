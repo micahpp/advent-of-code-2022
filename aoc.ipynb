{
 "cells": [
  {
   "cell_type": "markdown",
   "id": "5d9522a8-0171-48b8-abbe-548aeb6bd069",
   "metadata": {},
   "source": [
    "# Advent of code 2022"
   ]
  },
  {
   "cell_type": "code",
   "execution_count": 21,
   "id": "75fc9d73-05bc-4717-baca-f1d3c191a18a",
   "metadata": {},
   "outputs": [],
   "source": [
    "def load_data(path):\n",
    "    with open(path) as f:\n",
    "        return f.read()\n",
    "    \n",
    "def load_lines(path):\n",
    "    with open(path) as f:\n",
    "        return [l.strip() for l in f.readlines()]"
   ]
  },
  {
   "cell_type": "markdown",
   "id": "e38a6ad0-54c8-4538-81db-dd648c96ab33",
   "metadata": {},
   "source": [
    "# day 1"
   ]
  },
  {
   "cell_type": "markdown",
   "id": "e0f4e687-d281-4ec3-93a8-e90a872297fe",
   "metadata": {
    "jupyter": {
     "source_hidden": true
    },
    "tags": []
   },
   "source": [
    "--- Day 1: Calorie Counting ---\n",
    "Santa's reindeer typically eat regular reindeer food, but they need a lot of magical energy to deliver presents on Christmas. For that, their favorite snack is a special type of star fruit that only grows deep in the jungle. The Elves have brought you on their annual expedition to the grove where the fruit grows.\n",
    "\n",
    "To supply enough magical energy, the expedition needs to retrieve a minimum of fifty stars by December 25th. Although the Elves assure you that the grove has plenty of fruit, you decide to grab any fruit you see along the way, just in case.\n",
    "\n",
    "Collect stars by solving puzzles. Two puzzles will be made available on each day in the Advent calendar; the second puzzle is unlocked when you complete the first. Each puzzle grants one star. Good luck!\n",
    "\n",
    "The jungle must be too overgrown and difficult to navigate in vehicles or access from the air; the Elves' expedition traditionally goes on foot. As your boats approach land, the Elves begin taking inventory of their supplies. One important consideration is food - in particular, the number of Calories each Elf is carrying (your puzzle input).\n",
    "\n",
    "The Elves take turns writing down the number of Calories contained by the various meals, snacks, rations, etc. that they've brought with them, one item per line. Each Elf separates their own inventory from the previous Elf's inventory (if any) by a blank line.\n",
    "\n",
    "For example, suppose the Elves finish writing their items' Calories and end up with the following list:\n",
    "\n",
    "1000\n",
    "2000\n",
    "3000\n",
    "\n",
    "4000\n",
    "\n",
    "5000\n",
    "6000\n",
    "\n",
    "7000\n",
    "8000\n",
    "9000\n",
    "\n",
    "10000\n",
    "This list represents the Calories of the food carried by five Elves:\n",
    "\n",
    "The first Elf is carrying food with 1000, 2000, and 3000 Calories, a total of 6000 Calories.\n",
    "The second Elf is carrying one food item with 4000 Calories.\n",
    "The third Elf is carrying food with 5000 and 6000 Calories, a total of 11000 Calories.\n",
    "The fourth Elf is carrying food with 7000, 8000, and 9000 Calories, a total of 24000 Calories.\n",
    "The fifth Elf is carrying one food item with 10000 Calories.\n",
    "In case the Elves get hungry and need extra snacks, they need to know which Elf to ask: they'd like to know how many Calories are being carried by the Elf carrying the most Calories. In the example above, this is 24000 (carried by the fourth Elf).\n",
    "\n",
    "Find the Elf carrying the most Calories. How many total Calories is that Elf carrying?"
   ]
  },
  {
   "cell_type": "code",
   "execution_count": 33,
   "id": "55368aa5-0ec0-4d6b-a117-b3f4344b5015",
   "metadata": {},
   "outputs": [
    {
     "data": {
      "text/plain": [
       "71124"
      ]
     },
     "execution_count": 33,
     "metadata": {},
     "output_type": "execute_result"
    }
   ],
   "source": [
    "with open(\"data/aoc1.txt\") as f:\n",
    "    raw_input = f.read()\n",
    "    data = raw_input.split(\"\\n\\n\")\n",
    "\n",
    "formatted_data = {}\n",
    "for elf_id, calorie_count in enumerate(data):\n",
    "    calorie_data = [int(c) for c in calorie_count.split(\"\\n\")]\n",
    "    formatted_data[elf_id] = calorie_data\n",
    "\n",
    "answer = max([sum(x) for x in formatted_data.values()])\n",
    "answer"
   ]
  },
  {
   "cell_type": "markdown",
   "id": "ab7f2ee5-f3d5-49f6-b3cb-da498c1f75d1",
   "metadata": {},
   "source": [
    "#### part 2"
   ]
  },
  {
   "cell_type": "markdown",
   "id": "e3e76f9f-a2b5-448f-b4ab-36f48895ec41",
   "metadata": {
    "jupyter": {
     "source_hidden": true
    },
    "tags": []
   },
   "source": [
    "--- Part Two ---\n",
    "By the time you calculate the answer to the Elves' question, they've already realized that the Elf carrying the most Calories of food might eventually run out of snacks.\n",
    "\n",
    "To avoid this unacceptable situation, the Elves would instead like to know the total Calories carried by the top three Elves carrying the most Calories. That way, even if one of those Elves runs out of snacks, they still have two backups.\n",
    "\n",
    "In the example above, the top three Elves are the fourth Elf (with 24000 Calories), then the third Elf (with 11000 Calories), then the fifth Elf (with 10000 Calories). The sum of the Calories carried by these three elves is 45000.\n",
    "\n",
    "Find the top three Elves carrying the most Calories. How many Calories are those Elves carrying in total?"
   ]
  },
  {
   "cell_type": "code",
   "execution_count": 34,
   "id": "17f9676a-a04e-409c-8b10-596ba9f1a24e",
   "metadata": {},
   "outputs": [
    {
     "data": {
      "text/plain": [
       "204639"
      ]
     },
     "execution_count": 34,
     "metadata": {},
     "output_type": "execute_result"
    }
   ],
   "source": [
    "top_3 = sorted([sum(x) for x in formatted_data.values()])[-3:]\n",
    "answer = sum(top_3)\n",
    "answer"
   ]
  },
  {
   "cell_type": "markdown",
   "id": "cb08db5d-ae0b-4dca-bc2e-6eada817d037",
   "metadata": {},
   "source": [
    "# day 2"
   ]
  },
  {
   "cell_type": "markdown",
   "id": "0dc64987-d1a2-417c-873c-ea22bbf980f9",
   "metadata": {
    "jupyter": {
     "source_hidden": true
    },
    "tags": []
   },
   "source": [
    "--- Day 2: Rock Paper Scissors ---\n",
    "The Elves begin to set up camp on the beach. To decide whose tent gets to be closest to the snack storage, a giant Rock Paper Scissors tournament is already in progress.\n",
    "\n",
    "Rock Paper Scissors is a game between two players. Each game contains many rounds; in each round, the players each simultaneously choose one of Rock, Paper, or Scissors using a hand shape. Then, a winner for that round is selected: Rock defeats Scissors, Scissors defeats Paper, and Paper defeats Rock. If both players choose the same shape, the round instead ends in a draw.\n",
    "\n",
    "Appreciative of your help yesterday, one Elf gives you an encrypted strategy guide (your puzzle input) that they say will be sure to help you win. \"The first column is what your opponent is going to play: A for Rock, B for Paper, and C for Scissors. The second column--\" Suddenly, the Elf is called away to help with someone's tent.\n",
    "\n",
    "The second column, you reason, must be what you should play in response: X for Rock, Y for Paper, and Z for Scissors. Winning every time would be suspicious, so the responses must have been carefully chosen.\n",
    "\n",
    "The winner of the whole tournament is the player with the highest score. Your total score is the sum of your scores for each round. The score for a single round is the score for the shape you selected (1 for Rock, 2 for Paper, and 3 for Scissors) plus the score for the outcome of the round (0 if you lost, 3 if the round was a draw, and 6 if you won).\n",
    "\n",
    "Since you can't be sure if the Elf is trying to help you or trick you, you should calculate the score you would get if you were to follow the strategy guide.\n",
    "\n",
    "For example, suppose you were given the following strategy guide:\n",
    "\n",
    "A Y\n",
    "B X\n",
    "C Z\n",
    "This strategy guide predicts and recommends the following:\n",
    "\n",
    "In the first round, your opponent will choose Rock (A), and you should choose Paper (Y). This ends in a win for you with a score of 8 (2 because you chose Paper + 6 because you won).\n",
    "In the second round, your opponent will choose Paper (B), and you should choose Rock (X). This ends in a loss for you with a score of 1 (1 + 0).\n",
    "The third round is a draw with both players choosing Scissors, giving you a score of 3 + 3 = 6.\n",
    "In this example, if you were to follow the strategy guide, you would get a total score of 15 (8 + 1 + 6).\n",
    "\n",
    "What would your total score be if everything goes exactly according to your strategy guide?"
   ]
  },
  {
   "cell_type": "code",
   "execution_count": 36,
   "id": "97a0c855-3171-4c8e-b443-34f13982cddc",
   "metadata": {},
   "outputs": [],
   "source": [
    "import pandas as pd\n",
    "\n",
    "\n",
    "# (1 for Rock, 2 for Paper, and 3 for Scissors)\n",
    "class Move:\n",
    "    ROCK = 1\n",
    "    PAPER = 2\n",
    "    SCISSORS = 3\n",
    "\n",
    "\n",
    "# # (0 if you lost, 3 if the round was a draw, and 6 if you won)\n",
    "class Result:\n",
    "    LOSS = 0\n",
    "    DRAW = 3\n",
    "    WIN = 6\n",
    "\n",
    "\n",
    "def play(player_move, opponent_move):\n",
    "    \"\"\"\n",
    "    rules:\n",
    "    Rock defeats Scissors\n",
    "    Scissors defeats Paper\n",
    "    Paper defeats Rock\n",
    "    If both players choose the same shape, the round instead ends in a draw\n",
    "    \"\"\"\n",
    "\n",
    "    if player_move == opponent_move:\n",
    "        return Result.DRAW\n",
    "    elif (\n",
    "            (player_move == Move.ROCK and opponent_move == Move.SCISSORS) or\n",
    "            (player_move == Move.SCISSORS and opponent_move == Move.PAPER) or\n",
    "            (player_move == Move.PAPER and opponent_move == Move.ROCK)\n",
    "    ):\n",
    "        return Result.WIN\n",
    "    else:\n",
    "        return Result.LOSS\n",
    "\n",
    "\n",
    "def pt2(player, opponent):\n",
    "    \"\"\"\n",
    "    X means you need to lose,\n",
    "    Y means you need to end the round in a draw,\n",
    "    and Z means you need to win\n",
    "    \"\"\"\n",
    "    if player == opponent:\n",
    "        return Result.DRAW\n",
    "\n",
    "\n",
    "\n",
    "# X for Rock, Y for Paper, and Z for Scissors\n",
    "# A for Rock, B for Paper, and C for Scissors\n",
    "move_score_mapper = {\n",
    "    \"X\": 1, \"A\": 1,  # rock\n",
    "    \"Y\": 2, \"B\": 2,  # paper\n",
    "    \"Z\": 3, \"C\": 3  # scissors\n",
    "}"
   ]
  },
  {
   "cell_type": "code",
   "execution_count": 37,
   "id": "d55b6703-35d9-432c-9ab7-5314399be8be",
   "metadata": {},
   "outputs": [
    {
     "name": "stdout",
     "output_type": "stream",
     "text": [
      "answer=13009\n"
     ]
    }
   ],
   "source": [
    "path = \"data/aoc2.txt\"\n",
    "df = pd.read_csv(path, header=None, sep=\" \").rename(columns={0: \"opponent\", 1: \"player\"})\n",
    "df[\"opponent\"] = df.opponent.map(move_score_mapper)\n",
    "df[\"player\"] = df.player.map(move_score_mapper)\n",
    "\n",
    "df[\"results\"] = df.apply(lambda s: play(s.player, s.opponent) + s.player, axis=1)\n",
    "\n",
    "answer = df.results.sum()\n",
    "print(f\"{answer=}\")"
   ]
  },
  {
   "cell_type": "markdown",
   "id": "09398814-1c66-47ff-916c-fbb4e26d7caa",
   "metadata": {},
   "source": [
    "## day 3"
   ]
  },
  {
   "cell_type": "code",
   "execution_count": 9,
   "id": "fa40faa5-6456-437a-90c5-511bfd905d05",
   "metadata": {},
   "outputs": [
    {
     "data": {
      "text/plain": [
       "8105"
      ]
     },
     "execution_count": 9,
     "metadata": {},
     "output_type": "execute_result"
    }
   ],
   "source": [
    "import string\n",
    "\n",
    "ITEM_PRIORITY = {i: p for p, i in enumerate(string.ascii_letters, start=1)}\n",
    "\n",
    "def load_d3_data():\n",
    "    with open(\"data/aoc3.txt\") as f:\n",
    "        data = [l.strip() for l in f.readlines()]\n",
    "        return data\n",
    "    \n",
    "def get_in_both(rucksack):\n",
    "    n_items = len(rucksack)\n",
    "    split_idx = n_items // 2\n",
    "    \n",
    "    l, r = rucksack[:split_idx], rucksack[split_idx:]\n",
    "    if len(l) != len(r):\n",
    "        raise ValueError(f\"unequal split: {len(l)} vs {len(r)}\")\n",
    "        \n",
    "    in_both = set(l).intersection(set(r))\n",
    "    return list(in_both)[0] \n",
    "    \n",
    "\n",
    "rucksacks = load_d3_data()\n",
    "\n",
    "in_both = [get_in_both(rucksack) for rucksack in rucksacks]\n",
    "priorities = [ITEM_PRIORITY.get(i) for i in in_both]\n",
    "\n",
    "answer = sum(priorities)\n",
    "answer"
   ]
  },
  {
   "cell_type": "markdown",
   "id": "77038d89-ca1f-4a8b-8349-227628323d9b",
   "metadata": {},
   "source": [
    "#### part 2"
   ]
  },
  {
   "cell_type": "markdown",
   "id": "5cf0e43b-388d-470b-91be-31efc921e36f",
   "metadata": {
    "jupyter": {
     "source_hidden": true
    },
    "tags": []
   },
   "source": [
    "--- Part Two ---\n",
    "As you finish identifying the misplaced items, the Elves come to you with another issue.\n",
    "\n",
    "For safety, the Elves are divided into groups of three. Every Elf carries a badge that identifies their group. For efficiency, within each group of three Elves, the badge is the only item type carried by all three Elves. That is, if a group's badge is item type B, then all three Elves will have item type B somewhere in their rucksack, and at most two of the Elves will be carrying any other item type.\n",
    "\n",
    "The problem is that someone forgot to put this year's updated authenticity sticker on the badges. All of the badges need to be pulled out of the rucksacks so the new authenticity stickers can be attached.\n",
    "\n",
    "Additionally, nobody wrote down which item type corresponds to each group's badges. The only way to tell which item type is the right one is by finding the one item type that is common between all three Elves in each group.\n",
    "\n",
    "Every set of three lines in your list corresponds to a single group, but each group can have a different badge item type. So, in the above example, the first group's rucksacks are the first three lines:\n",
    "\n",
    "vJrwpWtwJgWrhcsFMMfFFhFp\n",
    "jqHRNqRjqzjGDLGLrsFMfFZSrLrFZsSL\n",
    "PmmdzqPrVvPwwTWBwg\n",
    "And the second group's rucksacks are the next three lines:\n",
    "\n",
    "wMqvLMZHhHMvwLHjbvcjnnSBnvTQFn\n",
    "ttgJtRGJQctTZtZT\n",
    "CrZsJsPPZsGzwwsLwLmpwMDw\n",
    "In the first group, the only item type that appears in all three rucksacks is lowercase r; this must be their badges. In the second group, their badge item type must be Z.\n",
    "\n",
    "Priorities for these items must still be found to organize the sticker attachment efforts: here, they are 18 (r) for the first group and 52 (Z) for the second group. The sum of these is 70.\n",
    "\n",
    "Find the item type that corresponds to the badges of each three-Elf group. What is the sum of the priorities of those item types?"
   ]
  },
  {
   "cell_type": "code",
   "execution_count": 16,
   "id": "2610cbce-ee00-4326-ab57-a677c8ffc881",
   "metadata": {},
   "outputs": [
    {
     "data": {
      "text/plain": [
       "2363"
      ]
     },
     "execution_count": 16,
     "metadata": {},
     "output_type": "execute_result"
    }
   ],
   "source": [
    "results = []\n",
    "for i in range(0, len(rucksacks), 3):\n",
    "    group = rucksacks[i: i+3]\n",
    "    group_label = list(set.intersection(*list(map(set, group))))[0]\n",
    "    results.append(ITEM_PRIORITY.get(group_label))\n",
    "\n",
    "answer = sum(results)\n",
    "answer"
   ]
  },
  {
   "cell_type": "markdown",
   "id": "40df6899-453b-4e65-917b-ab00e1b7aa8b",
   "metadata": {},
   "source": [
    "# day 4"
   ]
  },
  {
   "cell_type": "markdown",
   "id": "d7082e14-dcbe-4921-bb63-a85a9cadc688",
   "metadata": {
    "jupyter": {
     "source_hidden": true
    },
    "tags": []
   },
   "source": [
    "--- Day 4: Camp Cleanup ---\n",
    "Space needs to be cleared before the last supplies can be unloaded from the ships, and so several Elves have been assigned the job of cleaning up sections of the camp. Every section has a unique ID number, and each Elf is assigned a range of section IDs.\n",
    "\n",
    "However, as some of the Elves compare their section assignments with each other, they've noticed that many of the assignments overlap. To try to quickly find overlaps and reduce duplicated effort, the Elves pair up and make a big list of the section assignments for each pair (your puzzle input).\n",
    "\n",
    "For example, consider the following list of section assignment pairs:\n",
    "\n",
    "2-4,6-8\n",
    "2-3,4-5\n",
    "5-7,7-9\n",
    "2-8,3-7\n",
    "6-6,4-6\n",
    "2-6,4-8\n",
    "For the first few pairs, this list means:\n",
    "\n",
    "Within the first pair of Elves, the first Elf was assigned sections 2-4 (sections 2, 3, and 4), while the second Elf was assigned sections 6-8 (sections 6, 7, 8).\n",
    "The Elves in the second pair were each assigned two sections.\n",
    "The Elves in the third pair were each assigned three sections: one got sections 5, 6, and 7, while the other also got 7, plus 8 and 9.\n",
    "This example list uses single-digit section IDs to make it easier to draw; your actual list might contain larger numbers. Visually, these pairs of section assignments look like this:\n",
    "\n",
    ".234.....  2-4\n",
    ".....678.  6-8\n",
    "\n",
    ".23......  2-3\n",
    "...45....  4-5\n",
    "\n",
    "....567..  5-7\n",
    "......789  7-9\n",
    "\n",
    ".2345678.  2-8\n",
    "..34567..  3-7\n",
    "\n",
    ".....6...  6-6\n",
    "...456...  4-6\n",
    "\n",
    ".23456...  2-6\n",
    "...45678.  4-8\n",
    "Some of the pairs have noticed that one of their assignments fully contains the other. For example, 2-8 fully contains 3-7, and 6-6 is fully contained by 4-6. In pairs where one assignment fully contains the other, one Elf in the pair would be exclusively cleaning sections their partner will already be cleaning, so these seem like the most in need of reconsideration. In this example, there are 2 such pairs.\n",
    "\n",
    "In how many assignment pairs does one range fully contain the other?"
   ]
  },
  {
   "cell_type": "code",
   "execution_count": 23,
   "id": "8910570e-9654-4a33-a865-1fecd5fcd776",
   "metadata": {},
   "outputs": [
    {
     "data": {
      "text/plain": [
       "['14-38,14-14', '2-10,3-55', '36-90,36-46', '9-97,8-87', '75-92,51-92']"
      ]
     },
     "execution_count": 23,
     "metadata": {},
     "output_type": "execute_result"
    }
   ],
   "source": [
    "def load_d4_data():\n",
    "    return load_lines(\"data/aoc4.txt\")\n",
    "    \n",
    "data = load_d4_data()\n",
    "data[:5]"
   ]
  },
  {
   "cell_type": "code",
   "execution_count": 37,
   "id": "5de7fa51-ba2d-4374-8daf-ee31091fe3eb",
   "metadata": {},
   "outputs": [
    {
     "data": {
      "text/plain": [
       "576"
      ]
     },
     "execution_count": 37,
     "metadata": {},
     "output_type": "execute_result"
    }
   ],
   "source": [
    "def expand_list(l):\n",
    "    start, end = l.split(\"-\")\n",
    "    start, end = int(start), int(end)\n",
    "    r = range(start, end+1)\n",
    "    return set(r)\n",
    "\n",
    "def parse_line(line):\n",
    "    l, r = line.split(\",\")\n",
    "    expaned_l, expanded_r = expand_list(l), expand_list(r)\n",
    "    return [expaned_l, expanded_r]\n",
    "\n",
    "\n",
    "count = 0\n",
    "for line in data:\n",
    "    l, r = parse_line(line)\n",
    "    if l.issubset(r) or r.issubset(l):\n",
    "        count += 1\n",
    "        \n",
    "count"
   ]
  },
  {
   "cell_type": "markdown",
   "id": "daf7f377-55ba-41d6-9948-446e61ed9c58",
   "metadata": {},
   "source": [
    "#### part 2"
   ]
  },
  {
   "cell_type": "markdown",
   "id": "e33642cd-c926-405c-b2f6-782afd26e1f9",
   "metadata": {
    "jupyter": {
     "source_hidden": true
    },
    "tags": []
   },
   "source": [
    "--- Part Two ---\n",
    "It seems like there is still quite a bit of duplicate work planned. Instead, the Elves would like to know the number of pairs that overlap at all.\n",
    "\n",
    "In the above example, the first two pairs (2-4,6-8 and 2-3,4-5) don't overlap, while the remaining four pairs (5-7,7-9, 2-8,3-7, 6-6,4-6, and 2-6,4-8) do overlap:\n",
    "\n",
    "5-7,7-9 overlaps in a single section, 7.\n",
    "2-8,3-7 overlaps all of the sections 3 through 7.\n",
    "6-6,4-6 overlaps in a single section, 6.\n",
    "2-6,4-8 overlaps in sections 4, 5, and 6.\n",
    "So, in this example, the number of overlapping assignment pairs is 4.\n",
    "\n",
    "In how many assignment pairs do the ranges overlap?"
   ]
  },
  {
   "cell_type": "code",
   "execution_count": 38,
   "id": "afea2ae4-ac3a-4307-9533-86ee0a18b0cf",
   "metadata": {},
   "outputs": [
    {
     "data": {
      "text/plain": [
       "905"
      ]
     },
     "execution_count": 38,
     "metadata": {},
     "output_type": "execute_result"
    }
   ],
   "source": [
    "count = 0\n",
    "for line in data:\n",
    "    l, r = parse_line(line)\n",
    "    if l.intersection(r):\n",
    "        count += 1\n",
    "        \n",
    "count\n",
    "    "
   ]
  },
  {
   "cell_type": "code",
   "execution_count": null,
   "id": "64d618b6-7d3b-4122-872b-9b386d6746d1",
   "metadata": {},
   "outputs": [],
   "source": []
  }
 ],
 "metadata": {
  "kernelspec": {
   "display_name": "eda",
   "language": "python",
   "name": "eda"
  },
  "language_info": {
   "codemirror_mode": {
    "name": "ipython",
    "version": 3
   },
   "file_extension": ".py",
   "mimetype": "text/x-python",
   "name": "python",
   "nbconvert_exporter": "python",
   "pygments_lexer": "ipython3",
   "version": "3.9.5"
  }
 },
 "nbformat": 4,
 "nbformat_minor": 5
}
